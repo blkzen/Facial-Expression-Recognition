{
  "nbformat": 4,
  "nbformat_minor": 0,
  "metadata": {
    "colab": {
      "name": "Facial Expression.ipynb",
      "provenance": [],
      "mount_file_id": "1DIMUev4jaM2iTDnuOuPQTnN-aSqTwrd0",
      "authorship_tag": "ABX9TyNfcGoC1PxHLmk4yavOowhU",
      "include_colab_link": true
    },
    "kernelspec": {
      "name": "python3",
      "display_name": "Python 3"
    }
  },
  "cells": [
    {
      "cell_type": "markdown",
      "metadata": {
        "id": "view-in-github",
        "colab_type": "text"
      },
      "source": [
        "<a href=\"https://colab.research.google.com/github/blkzen/Facial-Expression-Recognition/blob/main/Facial_Expression.ipynb\" target=\"_parent\"><img src=\"https://colab.research.google.com/assets/colab-badge.svg\" alt=\"Open In Colab\"/></a>"
      ]
    },
    {
      "cell_type": "markdown",
      "metadata": {
        "id": "m4cMeXCM-fq0"
      },
      "source": [
        "# LIBRARIES"
      ]
    },
    {
      "cell_type": "code",
      "metadata": {
        "colab": {
          "base_uri": "https://localhost:8080/"
        },
        "id": "NyDOrAl24tMV",
        "outputId": "3655ba20-4be3-46f2-9762-3cf6cc99aa42"
      },
      "source": [
        " import numpy as np\r\n",
        "import pandas as pd\r\n",
        "from matplotlib import pyplot\r\n",
        "import matplotlib.pyplot as plt\r\n",
        "import statsmodels.api as sm\r\n",
        "from statsmodels.formula.api import ols\r\n",
        "import matplotlib.pyplot as plt\r\n",
        "import math\r\n",
        "%matplotlib inline\r\n",
        "import seaborn as sns\r\n",
        "import scipy.stats as stats\r\n",
        "from sklearn import linear_model\r\n",
        "from sklearn.linear_model import LinearRegression as linreg\r\n",
        "from sklearn.model_selection import train_test_split\r\n",
        "from sklearn.metrics import mean_squared_error\r\n",
        "from sklearn.preprocessing import StandardScaler\r\n",
        "from sklearn.linear_model import LogisticRegression\r\n",
        "from sklearn.metrics import confusion_matrix\r\n",
        "from sklearn.metrics import accuracy_score \r\n",
        "from sklearn.metrics import classification_report \r\n",
        "from sklearn.ensemble import RandomForestRegressor\r\n",
        "from sklearn.ensemble import RandomForestClassifier\r\n",
        "from sklearn.tree import DecisionTreeClassifier\r\n",
        "from sklearn.ensemble import GradientBoostingClassifier\r\n",
        "from sklearn.ensemble import ExtraTreesClassifier\r\n",
        "from sklearn import feature_selection\r\n",
        "from sklearn.model_selection import KFold\r\n",
        "from sklearn.datasets import make_classification\r\n",
        "from sklearn.feature_selection import SelectKBest\r\n",
        "from sklearn.feature_selection import chi2\r\n",
        "from sklearn.ensemble import ExtraTreesClassifier\r\n",
        "from sklearn.svm import SVC\r\n",
        "from sklearn.datasets import make_classification\r\n",
        "from sklearn.linear_model import LogisticRegression\r\n",
        "from sklearn.ensemble import RandomForestClassifier\r\n",
        "from xgboost import XGBClassifier\r\n",
        "import nltk\r\n",
        "import xgboost as xgb"
      ],
      "execution_count": 1,
      "outputs": [
        {
          "output_type": "stream",
          "text": [
            "/usr/local/lib/python3.7/dist-packages/statsmodels/tools/_testing.py:19: FutureWarning: pandas.util.testing is deprecated. Use the functions in the public API at pandas.testing instead.\n",
            "  import pandas.util.testing as tm\n"
          ],
          "name": "stderr"
        }
      ]
    },
    {
      "cell_type": "markdown",
      "metadata": {
        "id": "UKBg09ahTc5j"
      },
      "source": [
        "## Features of Expression Model\r\n",
        "\r\n",
        "Angry\r\n",
        "\r\n",
        "Disgust\r\n",
        "\r\n",
        "Fear\r\n",
        "\r\n",
        "Happy\r\n",
        "\r\n",
        "Neutral\r\n",
        "\r\n",
        "Sad\r\n",
        "\r\n",
        "Surprise"
      ]
    },
    {
      "cell_type": "code",
      "metadata": {
        "id": "5uu0Q7A3-bZa"
      },
      "source": [
        "df = pd.DataFrame(df)\r\n",
        "df.head()"
      ],
      "execution_count": null,
      "outputs": []
    }
  ]
}